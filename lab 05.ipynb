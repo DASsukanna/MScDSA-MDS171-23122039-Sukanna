{
 "cells": [
  {
   "cell_type": "code",
   "execution_count": 7,
   "metadata": {},
   "outputs": [],
   "source": [
    "Item=[\"RICE\",\"BREAD\",\"EGG\",\"BURGER\",\"PIZZA\",\"TEA\",\"MOMO\",\"BISCUIT\",\"IDLI\",\"BIRIYANI\"]\n",
    "Quantity=[500,200,10,5,6,4,1,2,5,1]\n",
    "Price=[32,50,60,100,200,40,100,20,50,200]\n"
   ]
  },
  {
   "cell_type": "code",
   "execution_count": 10,
   "metadata": {},
   "outputs": [
    {
     "ename": "NameError",
     "evalue": "name 'random' is not defined",
     "output_type": "error",
     "traceback": [
      "\u001b[1;31m---------------------------------------------------------------------------\u001b[0m",
      "\u001b[1;31mNameError\u001b[0m                                 Traceback (most recent call last)",
      "Cell \u001b[1;32mIn[10], line 10\u001b[0m\n\u001b[0;32m      7\u001b[0m total_costs \u001b[39m=\u001b[39m {}  \u001b[39m# To store total cost for each unique item\u001b[39;00m\n\u001b[0;32m      9\u001b[0m \u001b[39mfor\u001b[39;00m _ \u001b[39min\u001b[39;00m \u001b[39mrange\u001b[39m(\u001b[39m100\u001b[39m):\n\u001b[1;32m---> 10\u001b[0m     random_item_index \u001b[39m=\u001b[39m random\u001b[39m.\u001b[39mrandint(\u001b[39m0\u001b[39m, \u001b[39m9\u001b[39m)\n\u001b[0;32m     11\u001b[0m     quantity \u001b[39m=\u001b[39m quantities[random_item_index]\n\u001b[0;32m     12\u001b[0m     price \u001b[39m=\u001b[39m prices[random_item_index]\n",
      "\u001b[1;31mNameError\u001b[0m: name 'random' is not defined"
     ]
    }
   ],
   "source": [
    "with open(\"sales.csv\", \"w\", newline=\"\") as csvfile:\n",
    "    fieldnames = [\"Item\", \"Quantity\", \"Price\", \"Total Cost\"]\n",
    "    writer = csv.DictWriter(csvfile, fieldnames=fieldnames)\n",
    "    \n",
    "    writer.writeheader()\n",
    "    \n",
    "    total_costs = {}  # To store total cost for each unique item\n",
    "    \n",
    "    for _ in range(100):\n",
    "        random_item_index = random.randint(0, 9)\n",
    "        quantity = quantities[random_item_index]\n",
    "        price = prices[random_item_index]\n",
    "        item = items[random_item_index]\n",
    "        \n",
    "        # Calculate total cost for the row\n",
    "        total_cost = round(quantity * price, 2)\n",
    "        \n",
    "        # Write row to CSV\n",
    "        writer.writerow({\"Item\": item, \"Quantity\": quantity, \"Price\": price, \"Total Cost\": total_cost})\n",
    "        \n",
    "        # Update total cost for the unique item\n",
    "        if item in total_costs:\n",
    "            total_costs[item] += total_cost\n",
    "        else:\n",
    "            total_costs[item] = total_cost\n",
    "\n",
    "# Display the total cost for the first 5 rows and last 10 rows\n",
    "with open(\"sales.csv\", newline=\"\") as csvfile:\n",
    "    reader = csv.DictReader(csvfile)\n",
    "    print(\"Total Cost for First 5 Rows:\")\n",
    "    for _ in range(5):\n",
    "        row = next(reader)\n",
    "        print(f\"{row['Item']}: {row['Total Cost']}\")\n",
    "    \n",
    "    print(\"\\nTotal Cost for Last 10 Rows:\")\n",
    "    rows = list(reader)[-10:]\n",
    "    for row in rows:\n",
    "        print(f\"{row['Item']}: {row['Total Cost']}\")\n",
    "\n",
    "# Calculate and display total cost for each unique item\n",
    "print(\"\\nTotal Cost for Each Unique Item:\")\n",
    "for item, total_cost in total_costs.items():\n",
    "    print(f\"{item}: {total_cost}\")\n",
    "\n",
    "# Calculate and display minimum & maximum price for each item sold\n",
    "print(\"\\nMinimum and Maximum Price for Each Item Sold:\")\n",
    "item_prices = {item: [] for item in items}\n",
    "with open(\"sales.csv\", newline=\"\") as csvfile:\n",
    "    reader = csv.DictReader(csvfile)\n",
    "    for row in reader:\n",
    "        item = row[\"Item\"]\n",
    "        price = float(row[\"Price\"])\n",
    "        item_prices[item].append(price)\n",
    "\n",
    "for item, prices in item_prices.items():\n",
    "    min_price = min(prices)\n",
    "    max_price = max(prices)\n",
    "    print(f\"{item}: Min Price: {min_price}, Max Price: {max_price}\")\n"
   ]
  }
 ],
 "metadata": {
  "kernelspec": {
   "display_name": "Python 3",
   "language": "python",
   "name": "python3"
  },
  "language_info": {
   "codemirror_mode": {
    "name": "ipython",
    "version": 3
   },
   "file_extension": ".py",
   "mimetype": "text/x-python",
   "name": "python",
   "nbconvert_exporter": "python",
   "pygments_lexer": "ipython3",
   "version": "3.11.4"
  },
  "orig_nbformat": 4
 },
 "nbformat": 4,
 "nbformat_minor": 2
}
