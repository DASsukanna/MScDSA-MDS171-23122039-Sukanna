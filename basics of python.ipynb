{
 "cells": [
  {
   "cell_type": "code",
   "execution_count": null,
   "metadata": {},
   "outputs": [
    {
     "name": "stdout",
     "output_type": "stream",
     "text": [
      "start of program\n"
     ]
    },
    {
     "ename": "",
     "evalue": "",
     "output_type": "error",
     "traceback": [
      "\u001b[1;31mCannot execute code, session has been disposed. Please try restarting the Kernel."
     ]
    },
    {
     "ename": "",
     "evalue": "",
     "output_type": "error",
     "traceback": [
      "\u001b[1;31mThe Kernel crashed while executing code in the the current cell or a previous cell. Please review the code in the cell(s) to identify a possible cause of the failure. Click <a href='https://aka.ms/vscodeJupyterKernelCrash'>here</a> for more info. View Jupyter <a href='command:jupyter.viewOutput'>log</a> for further details."
     ]
    }
   ],
   "source": [
    "#if expression :\n",
    "#statements under if\n",
    "print(\"start of program\")\n",
    "a=int(input(\"enter a number\")) #assignment operator #typecasting\n",
    "if a==8 : #comparison operator\n",
    "    print(\"the value is five\")\n",
    "print(\"program end\")"
   ]
  },
  {
   "cell_type": "code",
   "execution_count": 8,
   "metadata": {},
   "outputs": [
    {
     "name": "stdout",
     "output_type": "stream",
     "text": [
      "start of program\n",
      "this is else part test\n",
      "this is else part test\n",
      "this is else part test\n",
      "this will worl irrespective of if or else \n",
      "entered number is  50\n",
      "program end\n"
     ]
    }
   ],
   "source": [
    "print(\"start of program\")\n",
    "a=int(input(\"enter a number\")) #assignment operator #typecasting\n",
    "if a==8 : #comparison operator\n",
    "    print(\"the value is eight\")\n",
    "else :\n",
    "     print(\"this is else part test\")\n",
    "     print(\"this is else part test\")\n",
    "     print(\"this is else part test\")\n",
    "print(\"this will workirrespective of if or else \")\n",
    "print(\"entered number is \",a)\n",
    "print(\"program end\")"
   ]
  },
  {
   "cell_type": "code",
   "execution_count": 15,
   "metadata": {},
   "outputs": [
    {
     "name": "stdout",
     "output_type": "stream",
     "text": [
      "the number is odd\n"
     ]
    }
   ],
   "source": [
    "#write a program to check if the entered number is odd or even\n",
    "a=float(input(\"enter the number\"))\n",
    "if a%2==0 :\n",
    "    print(\"the number is even\")\n",
    "print(\"the number is odd\")\n"
   ]
  },
  {
   "cell_type": "code",
   "execution_count": null,
   "metadata": {},
   "outputs": [],
   "source": []
  },
  {
   "cell_type": "code",
   "execution_count": null,
   "metadata": {},
   "outputs": [],
   "source": []
  }
 ],
 "metadata": {
  "kernelspec": {
   "display_name": "Python 3",
   "language": "python",
   "name": "python3"
  },
  "language_info": {
   "codemirror_mode": {
    "name": "ipython",
    "version": 3
   },
   "file_extension": ".py",
   "mimetype": "text/x-python",
   "name": "python",
   "nbconvert_exporter": "python",
   "pygments_lexer": "ipython3",
   "version": "3.11.4"
  },
  "orig_nbformat": 4
 },
 "nbformat": 4,
 "nbformat_minor": 2
}
