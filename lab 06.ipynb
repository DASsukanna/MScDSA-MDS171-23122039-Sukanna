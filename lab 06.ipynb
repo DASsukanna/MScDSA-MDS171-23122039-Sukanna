{
 "cells": [
  {
   "cell_type": "markdown",
   "metadata": {},
   "source": []
  },
  {
   "cell_type": "code",
   "execution_count": 1,
   "metadata": {},
   "outputs": [
    {
     "name": "stdout",
     "output_type": "stream",
     "text": [
      "Hello How Are You\n",
      "['h', 'e', 'l', 'l', 'o', ' ', 'h', 'o', 'w', ' ', 'a', 'r', 'e', ' ', 'y', 'o', 'u']\n",
      "the no of vowels:  7\n",
      "The no of a: 1\n",
      "The no of e: 2\n",
      "The no of i: 0\n",
      "The no of o: 3\n",
      "The no of a: 1\n",
      "The percentage of vowels in the string is : 41.17647058823529\n"
     ]
    }
   ],
   "source": [
    "u=input(\"enter the string: \")  #Taking input from user\n",
    "print (u)                      #Printing the user input\n",
    "s=u.lower()                    #convert the user input into lower case letters\n",
    "lst=list(s)                    #creating list\n",
    "print(lst)                     #Print the new list\n",
    "count=0                        #Declare a variable\n",
    "for i in lst:                  #use for loop to search the vowels\n",
    "    \n",
    "    if(i==\"a\"or i== \"e\"or i==\"i\"or i==\"o\"or i==\"u\"):\n",
    "        \n",
    "      count=count+1\n",
    "      \n",
    "    \n",
    "print(\"the no of vowels: \",count)     #print the total no of vowels\n",
    "v=0\n",
    "u=0\n",
    "w=0\n",
    "y=0\n",
    "z=0\n",
    "for i in lst:                          #use for loop to identify the total no of a's\n",
    "   if(i==\"a\"):\n",
    "     v=v+1\n",
    "print(\"The no of a:\",v)\n",
    "for i in lst:                          #use for loop to identify the total no of e's\n",
    "   if(i==\"e\"):\n",
    "     u=u+1\n",
    "print(\"The no of e:\",u)\n",
    "for i in lst:                           #use for loop to identify the total no of i's\n",
    "   if(i==\"i\"):\n",
    "     w=w+1\n",
    "print(\"The no of i:\",w)\n",
    "for i in lst:                           #use for loop to identify the total no of o's\n",
    "   if(i==\"o\"):\n",
    "     y=y+1\n",
    "print(\"The no of o:\",y)\n",
    "for i in lst:                           #use for loop to identify the total no of u's\n",
    "   if(i==\"u\"):\n",
    "     z=z+1\n",
    "print(\"The no of a:\",z)                 \n",
    "\n",
    "length=len(s)                            \n",
    "percen=((count/len(s))*100)\n",
    "print (\"The percentage of vowels in the string is :\",percen) #printing the percentage of the number of vowels present in the string"
   ]
  }
 ],
 "metadata": {
  "kernelspec": {
   "display_name": "Python 3",
   "language": "python",
   "name": "python3"
  },
  "language_info": {
   "codemirror_mode": {
    "name": "ipython",
    "version": 3
   },
   "file_extension": ".py",
   "mimetype": "text/x-python",
   "name": "python",
   "nbconvert_exporter": "python",
   "pygments_lexer": "ipython3",
   "version": "3.11.4"
  },
  "orig_nbformat": 4
 },
 "nbformat": 4,
 "nbformat_minor": 2
}
