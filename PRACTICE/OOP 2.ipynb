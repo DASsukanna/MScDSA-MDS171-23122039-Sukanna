{
 "cells": [
  {
   "cell_type": "code",
   "execution_count": 38,
   "metadata": {},
   "outputs": [],
   "source": [
    "class Point:\n",
    "    def __init__(self,x,y):\n",
    "        self.x_cod=x\n",
    "        self.y_cod=y\n",
    "    def __str__(self):\n",
    "        return'<{},{}>'.format(self.x_cod,self.y_cod)\n",
    "    \n",
    "    def eucledian_distance(self,other):\n",
    "        return ((self.x_cod - other.x_cod)**2 + (self.y_cod - other.y_cod)**2)**0.5\n",
    "    \n",
    "    def distance_from_origin(self):\n",
    "        #return self.x_cod**2  + self.y_cod**2\n",
    "        return self.eucledian_distance(Point(0,0))\n",
    "class Line:\n",
    "    def __init__(self,A,B,C):\n",
    "     self.A =A          #A, B and C are the coefficients of the line \n",
    "     self.B=B     \n",
    "     self.C=C\n",
    "    def __str__(self):\n",
    "        return'{}x+{}y+{}=0'.format(self.A,self.B,self.C)     #Ax+By+C=0\n",
    "    \n",
    "    def point_on_line(line,Point):\n",
    "        if line.A*Point.x_cod + line.B*Point.y_cod+ line.C==0 :\n",
    "            return \"lises on the line\"\n",
    "        else:\n",
    "      \n",
    "          return \"does not lie on the line\"\n",
    "        \n",
    "    def shortest_distance(line,Point): \n",
    " \n",
    "       return (abs(line.A*Point.x_cod + line.B*Point.y_cod + line.C)/(line.A**2+line.B**2)**0.5)\n",
    "\n",
    "\n",
    "    def intersection(line1,line2):\n",
    "        if (line1.A*line2.B) == (line2.A*line1.B):\n",
    "            return \"two lines donot intersect\"\n",
    "        else:\n",
    "            return \"two lines intersect\"\n",
    "         "
   ]
  },
  {
   "cell_type": "code",
   "execution_count": 20,
   "metadata": {},
   "outputs": [
    {
     "name": "stdout",
     "output_type": "stream",
     "text": [
      "<0,0>\n",
      "<-2,-1>\n"
     ]
    }
   ],
   "source": [
    "p1=Point(0,0)            ##p1 is a point i=object whiuch is seen in angle brackets\n",
    "p2=Point(-2,-1)\n",
    "#<x,y>\n",
    "print(p1)                 #user can give anynput and can see the outputs in thiose angle brackets structres.\n",
    "print(p2)"
   ]
  },
  {
   "cell_type": "code",
   "execution_count": 24,
   "metadata": {},
   "outputs": [
    {
     "data": {
      "text/plain": [
       "14.142135623730951"
      ]
     },
     "execution_count": 24,
     "metadata": {},
     "output_type": "execute_result"
    }
   ],
   "source": [
    "p1=Point(0,0)\n",
    "p2=Point(10,10)\n",
    "p1.eucledian_distance(p2)"
   ]
  },
  {
   "cell_type": "code",
   "execution_count": 27,
   "metadata": {},
   "outputs": [
    {
     "data": {
      "text/plain": [
       "11.180339887498949"
      ]
     },
     "execution_count": 27,
     "metadata": {},
     "output_type": "execute_result"
    }
   ],
   "source": [
    "p1=Point(10,5)\n",
    "p1.distance_from_origin()"
   ]
  },
  {
   "cell_type": "code",
   "execution_count": 30,
   "metadata": {},
   "outputs": [
    {
     "name": "stdout",
     "output_type": "stream",
     "text": [
      "3x+4y+5=0\n"
     ]
    }
   ],
   "source": [
    "L1=Line(3,4,5)\n",
    "print(L1)"
   ]
  },
  {
   "cell_type": "code",
   "execution_count": 39,
   "metadata": {},
   "outputs": [
    {
     "name": "stdout",
     "output_type": "stream",
     "text": [
      "1x+1y+-2=0\n",
      "<1,-1>\n"
     ]
    },
    {
     "data": {
      "text/plain": [
       "'does not lie on the line'"
      ]
     },
     "execution_count": 39,
     "metadata": {},
     "output_type": "execute_result"
    }
   ],
   "source": [
    "L1=Line(1,1,-2)\n",
    "p1=Point(1,-1)\n",
    "print(L1)\n",
    "print(p1)\n",
    "\n",
    "L1.point_on_line(p1)"
   ]
  },
  {
   "cell_type": "code",
   "execution_count": 13,
   "metadata": {},
   "outputs": [
    {
     "name": "stdout",
     "output_type": "stream",
     "text": [
      "1x+1y+-2=0\n",
      "<1,1>\n"
     ]
    },
    {
     "data": {
      "text/plain": [
       "0.0"
      ]
     },
     "execution_count": 13,
     "metadata": {},
     "output_type": "execute_result"
    }
   ],
   "source": [
    "l1=Line(1,1,-2)\n",
    "p1=Point(1,1)\n",
    "print(l1)\n",
    "print(p1)\n",
    "\n",
    "l1.shortest_distance(p1)       #the point lies on the line thats why the distance is coming 0\n"
   ]
  },
  {
   "cell_type": "code",
   "execution_count": 39,
   "metadata": {},
   "outputs": [
    {
     "name": "stdout",
     "output_type": "stream",
     "text": [
      "5x+5y+180=0\n",
      "3x+3y+5=0\n"
     ]
    },
    {
     "data": {
      "text/plain": [
       "'two lines donot intersect'"
      ]
     },
     "execution_count": 39,
     "metadata": {},
     "output_type": "execute_result"
    }
   ],
   "source": [
    "l1=Line(5,5,180)\n",
    "l2=Line(3,3,5)\n",
    "print(l1)\n",
    "print(l2)\n",
    "\n",
    "l1.intersection(l2)"
   ]
  },
  {
   "cell_type": "code",
   "execution_count": 48,
   "metadata": {},
   "outputs": [],
   "source": [
    "class Person:\n",
    "    def __init__(self,name_input,country_input):\n",
    "        self.name = name_input\n",
    "        self.country=country_input\n",
    "    def greet(self):\n",
    "        if self.country=='India':\n",
    "            print('Namaste',self.name)\n",
    "        else:\n",
    "            print('hello',self.name)\n"
   ]
  },
  {
   "cell_type": "code",
   "execution_count": 50,
   "metadata": {},
   "outputs": [],
   "source": [
    "p  =Person('Sukanna','India')\n"
   ]
  },
  {
   "cell_type": "code",
   "execution_count": 45,
   "metadata": {},
   "outputs": [
    {
     "data": {
      "text/plain": [
       "'Sukanna'"
      ]
     },
     "execution_count": 45,
     "metadata": {},
     "output_type": "execute_result"
    }
   ],
   "source": [
    "p.name"
   ]
  },
  {
   "cell_type": "code",
   "execution_count": 46,
   "metadata": {},
   "outputs": [
    {
     "data": {
      "text/plain": [
       "'India'"
      ]
     },
     "execution_count": 46,
     "metadata": {},
     "output_type": "execute_result"
    }
   ],
   "source": [
    "p.country"
   ]
  },
  {
   "cell_type": "code",
   "execution_count": 51,
   "metadata": {},
   "outputs": [
    {
     "name": "stdout",
     "output_type": "stream",
     "text": [
      "Namaste Sukanna\n"
     ]
    }
   ],
   "source": [
    "p.greet()"
   ]
  },
  {
   "cell_type": "code",
   "execution_count": 52,
   "metadata": {},
   "outputs": [],
   "source": [
    "p.gender='male'"
   ]
  },
  {
   "cell_type": "code",
   "execution_count": 53,
   "metadata": {},
   "outputs": [
    {
     "data": {
      "text/plain": [
       "'male'"
      ]
     },
     "execution_count": 53,
     "metadata": {},
     "output_type": "execute_result"
    }
   ],
   "source": [
    "p.gender"
   ]
  },
  {
   "cell_type": "code",
   "execution_count": null,
   "metadata": {},
   "outputs": [],
   "source": [
    "#####REFERENCE VARIABLE######"
   ]
  },
  {
   "cell_type": "code",
   "execution_count": 63,
   "metadata": {},
   "outputs": [],
   "source": [
    "#object without a reference\n",
    "class Person:\n",
    "  def __init__(self):\n",
    "    self.name='sukanna'\n",
    "    self.gender='male'\n",
    "\n",
    "p=Person()   #p is not a obeject .it is a reference of the object that ghas been created in the memory\n",
    "q=p          # p is noting but a reference variable"
   ]
  },
  {
   "cell_type": "code",
   "execution_count": 58,
   "metadata": {},
   "outputs": [
    {
     "name": "stdout",
     "output_type": "stream",
     "text": [
      "2446180090896\n",
      "2446180090896\n"
     ]
    }
   ],
   "source": [
    "#multiple refrence\n",
    "print(id(p))\n",
    "print(id(q))    #both p and q have same address."
   ]
  },
  {
   "cell_type": "code",
   "execution_count": 64,
   "metadata": {},
   "outputs": [
    {
     "name": "stdout",
     "output_type": "stream",
     "text": [
      "sukanna\n",
      "sukanna\n",
      "ankit\n",
      "ankit\n"
     ]
    }
   ],
   "source": [
    "print(p.name)\n",
    "print(q.name)\n",
    "q.name='ankit'\n",
    "print(q.name)\n",
    "print(p.name)     #since p and q are same.if one is changed the other will also change."
   ]
  },
  {
   "cell_type": "code",
   "execution_count": 65,
   "metadata": {},
   "outputs": [
    {
     "name": "stdout",
     "output_type": "stream",
     "text": [
      "hi my name is  sukanna  and i am a  female\n"
     ]
    }
   ],
   "source": [
    "class Person:\n",
    "    def __init__(self,name,gender):\n",
    "        self.name = name\n",
    "        self.gender = gender\n",
    "\n",
    "#outside the class.hence this is a function\n",
    "def greet(person):\n",
    "    ##you can pass your class object as input in the function\n",
    "    print(\"hi my name is \",person.name,\" and i am a \",person.gender)\n",
    "    \n",
    "p=Person(\"sukanna\",\"female\")\n",
    "greet(p)\n",
    "\n"
   ]
  },
  {
   "cell_type": "code",
   "execution_count": 66,
   "metadata": {},
   "outputs": [
    {
     "name": "stdout",
     "output_type": "stream",
     "text": [
      "hi my name is  sukanna  and i am a  female\n",
      "ankit\n",
      "male\n"
     ]
    }
   ],
   "source": [
    "class Person:\n",
    "    def __init__(self,name,gender):\n",
    "        self.name = name\n",
    "        self.gender = gender\n",
    "\n",
    "#outside the class.hence this is a function\n",
    "def greet(person):\n",
    "    ##you can pass your class object as input in the function\n",
    "    print(\"hi my name is \",person.name,\" and i am a \",person.gender)\n",
    "    p1=Person(\"ankit\",\"male\")\n",
    "    return p1\n",
    "p=Person(\"sukanna\",\"female\")\n",
    "x=greet(p)\n",
    "print(x.name)   ##a function can also return an object\n",
    "print(x.gender)\n",
    "\n",
    "\n"
   ]
  },
  {
   "cell_type": "code",
   "execution_count": 67,
   "metadata": {},
   "outputs": [
    {
     "name": "stdout",
     "output_type": "stream",
     "text": [
      "2446180558416\n",
      "2446180558416\n",
      "hi my name is  sukanna  and i am a  female\n"
     ]
    }
   ],
   "source": [
    "class Person:\n",
    "    def __init__(self,name,gender):\n",
    "        self.name = name\n",
    "        self.gender = gender\n",
    "\n",
    "#outside the class.hence this is a function\n",
    "def greet(person):\n",
    "    print(id(person))\n",
    "    ##you can pass your class object as input in the function\n",
    "    print(\"hi my name is \",person.name,\" and i am a \",person.gender)\n",
    "    \n",
    "p=Person(\"sukanna\",\"female\")\n",
    "print(id(p))\n",
    "greet(p)\n",
    "\n"
   ]
  },
  {
   "cell_type": "code",
   "execution_count": 69,
   "metadata": {},
   "outputs": [
    {
     "name": "stdout",
     "output_type": "stream",
     "text": [
      "2446180546320\n",
      "2446180546320\n",
      "ankit\n",
      "ankit\n"
     ]
    }
   ],
   "source": [
    "class Person:\n",
    "    def __init__(self,name,gender):\n",
    "        self.name = name\n",
    "        self.gender = gender\n",
    "\n",
    "#outside the class.hence this is a function\n",
    "def greet(person):\n",
    "    print(id(person))\n",
    "    person.name=\"ankit\"\n",
    "    print(person.name)\n",
    "\n",
    "\n",
    "p=Person(\"sukanna\",\"female\")\n",
    "print(id(p))\n",
    "greet(p)\n",
    "print(p.name)\n",
    "\n"
   ]
  },
  {
   "cell_type": "code",
   "execution_count": 70,
   "metadata": {},
   "outputs": [
    {
     "name": "stdout",
     "output_type": "stream",
     "text": [
      "2446180096976\n",
      "2446153229040\n"
     ]
    }
   ],
   "source": [
    "class Person:\n",
    "    def __init__(self,name,gender):\n",
    "        self.name = name\n",
    "        self.gender = gender\n",
    "\n",
    "#outside the class.hence this is a function\n",
    "def greet(person):\n",
    "    \n",
    "    person.name=\"ankit\"\n",
    "    return Person\n",
    "\n",
    "p=Person(\"sukanna\",\"female\")\n",
    "print(id(p))\n",
    "p1=greet(p)\n",
    "print(id(p1))\n",
    "\n"
   ]
  },
  {
   "cell_type": "code",
   "execution_count": null,
   "metadata": {},
   "outputs": [],
   "source": [
    "###ENCAPSULATION###"
   ]
  },
  {
   "cell_type": "code",
   "execution_count": 71,
   "metadata": {},
   "outputs": [],
   "source": [
    "#INSTANCEE VAR -> PYTHON TUTOR\n",
    "class Person:\n",
    "    def __init__(self,name_input,country_input):\n",
    "        self.name=name_input\n",
    "        self.country=country_input\n",
    "p1=Person('sukanna','female')\n",
    "p2=Person('ankit','male')\n",
    "    "
   ]
  },
  {
   "cell_type": "code",
   "execution_count": 72,
   "metadata": {},
   "outputs": [
    {
     "data": {
      "text/plain": [
       "'ankit'"
      ]
     },
     "execution_count": 72,
     "metadata": {},
     "output_type": "execute_result"
    }
   ],
   "source": [
    "p2.name"
   ]
  },
  {
   "cell_type": "code",
   "execution_count": null,
   "metadata": {},
   "outputs": [],
   "source": [
    "class ATM:\n",
    "    #constructor(special function)->superpower->\n",
    "    def __init__(self):\n",
    "        print(id(self))\n",
    "        self.pin=''\n",
    "        self.balance=0\n",
    "        #self.menu\n",
    "    \n",
    "    def menu(self):\n",
    "        self."
   ]
  },
  {
   "cell_type": "code",
   "execution_count": null,
   "metadata": {},
   "outputs": [],
   "source": [
    "obj=ATM()"
   ]
  },
  {
   "cell_type": "code",
   "execution_count": null,
   "metadata": {},
   "outputs": [],
   "source": [
    "obj.balance=\"hehheh\""
   ]
  },
  {
   "cell_type": "code",
   "execution_count": null,
   "metadata": {},
   "outputs": [],
   "source": [
    "###\" COLLECTION OF OBJECTS : ###\n"
   ]
  },
  {
   "cell_type": "code",
   "execution_count": 5,
   "metadata": {},
   "outputs": [
    {
     "name": "stdout",
     "output_type": "stream",
     "text": [
      "[<__main__.Person object at 0x0000020164042610>, <__main__.Person object at 0x0000020163AEB610>, <__main__.Person object at 0x0000020164042E10>]\n",
      "<__main__.Person object at 0x0000020164042610>\n",
      "<__main__.Person object at 0x0000020163AEB610>\n",
      "<__main__.Person object at 0x0000020164042E10>\n",
      "sukanna female\n",
      "natasha female\n",
      "nikhil male\n"
     ]
    }
   ],
   "source": [
    "#LIST OF 0BJECTS\n",
    "class Person:\n",
    "    def __init__(self,name,gender):\n",
    "        self.name=name\n",
    "        self.gender=gender\n",
    "p1=Person('sukanna','female')\n",
    "p2=Person('natasha','female')\n",
    "p3=Person('nikhil','male')\n",
    "  \n",
    "L=[p1,p2,p3]\n",
    "print(L)\n",
    "\n",
    "for i in L:\n",
    "    print(i)\n",
    "\n",
    "for i in L:\n",
    "    print(i.name,i.gender)\n",
    "\n"
   ]
  },
  {
   "cell_type": "code",
   "execution_count": 6,
   "metadata": {},
   "outputs": [
    {
     "name": "stdout",
     "output_type": "stream",
     "text": [
      "p1\n",
      "p2\n",
      "p3\n",
      "<__main__.Person object at 0x000002016406C7D0>\n",
      "<__main__.Person object at 0x0000020164059F90>\n",
      "<__main__.Person object at 0x0000020164059690>\n",
      "sukanna female\n",
      "natasha female\n",
      "nikhil male\n"
     ]
    }
   ],
   "source": [
    "#dict of objects\n",
    "#lists of objects\n",
    "\n",
    "class Person:\n",
    "    def __init__(self,name,gender):\n",
    "        self.name=name\n",
    "        self.gender=gender\n",
    "p1=Person('sukanna','female')\n",
    "p2=Person('natasha','female')\n",
    "p3=Person('nikhil','male')\n",
    "  \n",
    "d={'p1':p1,'p2':p2,'p3':p3}\n",
    "for i in d:\n",
    "    print(i)\n",
    "\n",
    "for i in d:\n",
    "    print(d[i])\n",
    "\n",
    "for i in d:\n",
    "    print(d[i].name,d[i].gender)\n",
    "\n"
   ]
  },
  {
   "cell_type": "code",
   "execution_count": null,
   "metadata": {},
   "outputs": [],
   "source": [
    "##STATIC VSRIABLES ##\n",
    "\n",
    "class ATM:\n",
    "    #constructed (spcial function ) ->suoer power-.\n",
    "    def __init__(self):\n",
    "        print(id(self))\n",
    "        self.pin=''\n",
    "        self.balance=0\n",
    "        self.cid=0\n",
    "        self.cid+=1\n",
    "\n",
    "        #self.menu()\n",
    "    def get_balance(self):\n",
    "        return self.balance\n",
    "    \n",
    "        "
   ]
  },
  {
   "cell_type": "code",
   "execution_count": null,
   "metadata": {},
   "outputs": [],
   "source": [
    "c1=ATM()"
   ]
  },
  {
   "cell_type": "code",
   "execution_count": null,
   "metadata": {},
   "outputs": [],
   "source": [
    "c2=ATM()"
   ]
  },
  {
   "cell_type": "code",
   "execution_count": 7,
   "metadata": {},
   "outputs": [
    {
     "ename": "NameError",
     "evalue": "name 'ATM' is not defined",
     "output_type": "error",
     "traceback": [
      "\u001b[1;31m---------------------------------------------------------------------------\u001b[0m",
      "\u001b[1;31mNameError\u001b[0m                                 Traceback (most recent call last)",
      "\u001b[1;32md:\\gitfiles\\MScDSA-MDS171-23122039-Sukanna\\OOP 2.ipynb Cell 37\u001b[0m line \u001b[0;36m1\n\u001b[1;32m----> <a href='vscode-notebook-cell:/d%3A/gitfiles/MScDSA-MDS171-23122039-Sukanna/OOP%202.ipynb#X52sZmlsZQ%3D%3D?line=0'>1</a>\u001b[0m c3\u001b[39m=\u001b[39mATM\n",
      "\u001b[1;31mNameError\u001b[0m: name 'ATM' is not defined"
     ]
    }
   ],
   "source": [
    "c3=ATM()"
   ]
  },
  {
   "cell_type": "code",
   "execution_count": null,
   "metadata": {},
   "outputs": [],
   "source": [
    "c1.cid"
   ]
  },
  {
   "cell_type": "code",
   "execution_count": null,
   "metadata": {},
   "outputs": [],
   "source": [
    "c2.cid"
   ]
  },
  {
   "cell_type": "code",
   "execution_count": null,
   "metadata": {},
   "outputs": [],
   "source": [
    "c3.cid\n",
    "\n",
    "# in this code we dont get different ids. because for every customer the same function is executed and it is giving value 1 for every customer\n",
    " #instance variable is for object\n",
    " # customer name, customer balance , bank ifsc code is instance variable"
   ]
  },
  {
   "cell_type": "code",
   "execution_count": null,
   "metadata": {},
   "outputs": [],
   "source": [
    "# the value of static variable for each variable is same. static variable is for class\n",
    "# name if degree, name of university is static variable.\n",
    "# static variable is define outside the class \n",
    "# if we want to define a counter variable then it must be a static variable "
   ]
  },
  {
   "cell_type": "code",
   "execution_count": null,
   "metadata": {},
   "outputs": [],
   "source": [
    "class ATM():\n",
    "     counter =1"
   ]
  },
  {
   "cell_type": "code",
   "execution_count": null,
   "metadata": {},
   "outputs": [],
   "source": [
    " ###to make the counter variable private we use __counter.\n",
    " #### __counter=1\n",
    "##we now write  after thee constructer \n",
    "def get_counter():\n",
    "    return ATM.__counter"
   ]
  },
  {
   "cell_type": "code",
   "execution_count": null,
   "metadata": {},
   "outputs": [],
   "source": [
    "kaggle kernels output pranathipraveen/logistic-regression -p /path/to/dest"
   ]
  },
  {
   "cell_type": "code",
   "execution_count": null,
   "metadata": {},
   "outputs": [],
   "source": []
  }
 ],
 "metadata": {
  "kernelspec": {
   "display_name": "Python 3",
   "language": "python",
   "name": "python3"
  },
  "language_info": {
   "codemirror_mode": {
    "name": "ipython",
    "version": 3
   },
   "file_extension": ".py",
   "mimetype": "text/x-python",
   "name": "python",
   "nbconvert_exporter": "python",
   "pygments_lexer": "ipython3",
   "version": "3.11.4"
  },
  "orig_nbformat": 4
 },
 "nbformat": 4,
 "nbformat_minor": 2
}
