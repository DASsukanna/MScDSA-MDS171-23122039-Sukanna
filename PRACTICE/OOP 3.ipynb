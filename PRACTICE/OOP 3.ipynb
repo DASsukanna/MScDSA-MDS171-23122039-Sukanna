{
 "cells": [
  {
   "cell_type": "code",
   "execution_count": null,
   "metadata": {},
   "outputs": [],
   "source": [
    "##  CLASS RELATIONSHIPS\n",
    "\n",
    "#  1) AGGREGATION\n",
    "#  2) INHERITANCE"
   ]
  },
  {
   "cell_type": "code",
   "execution_count": null,
   "metadata": {},
   "outputs": [],
   "source": [
    " # AGGREGATION  (HAS A RELATIONSHIP)\n",
    "# ONE CLASS OWNS THE OTHER CLASS."
   ]
  },
  {
   "cell_type": "code",
   "execution_count": 2,
   "metadata": {},
   "outputs": [
    {
     "name": "stdout",
     "output_type": "stream",
     "text": [
      "kolkata 700063 west bengal\n"
     ]
    }
   ],
   "source": [
    "class customer:\n",
    "    def __init__(self,name,gender,address):\n",
    "        self.name=name\n",
    "        self.gender=gender\n",
    "        self.address=address\n",
    "    def print_address(self):\n",
    "        print(self.address.city,self.address.pin,self.address.state)\n",
    "\n",
    "class address:\n",
    "    def __init__(self,city,pin,state):\n",
    "        self.city=city\n",
    "        self.pin = pin\n",
    "        self.state=state\n",
    "\n",
    "add1 = address('kolkata',700063,'west bengal')\n",
    "\n",
    "cust=customer('sukanna','female',add1)\n",
    "\n",
    "cust.print_address()"
   ]
  },
  {
   "cell_type": "code",
   "execution_count": 15,
   "metadata": {},
   "outputs": [
    {
     "name": "stdout",
     "output_type": "stream",
     "text": [
      "kolkata 700063 west bengal\n"
     ]
    }
   ],
   "source": [
    "class customer:\n",
    "\n",
    "    def __init__(self,name,gender,address):\n",
    "        self.name=name\n",
    "        self.gender=gender\n",
    "        self.address=address\n",
    "\n",
    "    def print_address(self):\n",
    "        print(self.address.city,self.address.pin,self.address.state)\n",
    "\n",
    "class address:\n",
    "    def __init__(self,city,pin,state):\n",
    "        self.city=city\n",
    "        self.pin = pin\n",
    "        self.state=state\n",
    "\n",
    "    \n",
    "\n",
    "add1 = address('kolkata',700063,'west bengal')\n",
    "\n",
    "cust=customer('sukanna','female',add1)\n",
    "\n",
    "cust.print_address()"
   ]
  },
  {
   "cell_type": "code",
   "execution_count": 18,
   "metadata": {},
   "outputs": [
    {
     "ename": "AttributeError",
     "evalue": "'address' object has no attribute '_customer__city'",
     "output_type": "error",
     "traceback": [
      "\u001b[1;31m---------------------------------------------------------------------------\u001b[0m",
      "\u001b[1;31mAttributeError\u001b[0m                            Traceback (most recent call last)",
      "\u001b[1;32md:\\gitfiles\\MScDSA-MDS171-23122039-Sukanna\\OOP 3.ipynb Cell 5\u001b[0m line \u001b[0;36m2\n\u001b[0;32m     <a href='vscode-notebook-cell:/d%3A/gitfiles/MScDSA-MDS171-23122039-Sukanna/OOP%203.ipynb#X10sZmlsZQ%3D%3D?line=18'>19</a>\u001b[0m add1 \u001b[39m=\u001b[39m address(\u001b[39m'\u001b[39m\u001b[39mkolkata\u001b[39m\u001b[39m'\u001b[39m,\u001b[39m700063\u001b[39m,\u001b[39m'\u001b[39m\u001b[39mwest bengal\u001b[39m\u001b[39m'\u001b[39m)\n\u001b[0;32m     <a href='vscode-notebook-cell:/d%3A/gitfiles/MScDSA-MDS171-23122039-Sukanna/OOP%203.ipynb#X10sZmlsZQ%3D%3D?line=20'>21</a>\u001b[0m cust\u001b[39m=\u001b[39mcustomer(\u001b[39m'\u001b[39m\u001b[39msukanna\u001b[39m\u001b[39m'\u001b[39m,\u001b[39m'\u001b[39m\u001b[39mfemale\u001b[39m\u001b[39m'\u001b[39m,add1)\n\u001b[1;32m---> <a href='vscode-notebook-cell:/d%3A/gitfiles/MScDSA-MDS171-23122039-Sukanna/OOP%203.ipynb#X10sZmlsZQ%3D%3D?line=22'>23</a>\u001b[0m cust\u001b[39m.\u001b[39;49mprint_address()\n",
      "\u001b[1;32md:\\gitfiles\\MScDSA-MDS171-23122039-Sukanna\\OOP 3.ipynb Cell 5\u001b[0m line \u001b[0;36m9\n\u001b[0;32m      <a href='vscode-notebook-cell:/d%3A/gitfiles/MScDSA-MDS171-23122039-Sukanna/OOP%203.ipynb#X10sZmlsZQ%3D%3D?line=7'>8</a>\u001b[0m \u001b[39mdef\u001b[39;00m \u001b[39mprint_address\u001b[39m(\u001b[39mself\u001b[39m):\n\u001b[1;32m----> <a href='vscode-notebook-cell:/d%3A/gitfiles/MScDSA-MDS171-23122039-Sukanna/OOP%203.ipynb#X10sZmlsZQ%3D%3D?line=8'>9</a>\u001b[0m     \u001b[39mprint\u001b[39m(\u001b[39mself\u001b[39;49m\u001b[39m.\u001b[39;49maddress\u001b[39m.\u001b[39;49m__city,\u001b[39mself\u001b[39m\u001b[39m.\u001b[39maddress\u001b[39m.\u001b[39mpin,\u001b[39mself\u001b[39m\u001b[39m.\u001b[39maddress\u001b[39m.\u001b[39mstate)\n",
      "\u001b[1;31mAttributeError\u001b[0m: 'address' object has no attribute '_customer__city'"
     ]
    }
   ],
   "source": [
    "#you cannot access private attributes\n",
    "\n",
    "\n",
    "class customer:\n",
    "\n",
    "    def __init__(self,name,gender,address):\n",
    "        self.name=name\n",
    "        self.gender=gender\n",
    "        self.address=address\n",
    "\n",
    "    def print_address(self):\n",
    "        print(self.address.__city,self.address.pin,self.address.state)\n",
    "\n",
    "class address:\n",
    "    def __init__(self,city,pin,state):\n",
    "        self.__city=city\n",
    "        self.pin = pin\n",
    "        self.state=state\n",
    "\n",
    "    \n",
    "\n",
    "add1 = address('kolkata',700063,'west bengal')\n",
    "\n",
    "cust=customer('sukanna','female',add1)\n",
    "\n",
    "cust.print_address()"
   ]
  },
  {
   "cell_type": "code",
   "execution_count": 20,
   "metadata": {},
   "outputs": [
    {
     "name": "stdout",
     "output_type": "stream",
     "text": [
      "kolkata 700063 west bengal\n"
     ]
    }
   ],
   "source": [
    "class customer:\n",
    "\n",
    "    def __init__(self,name,gender,address):\n",
    "        self.name=name\n",
    "        self.gender=gender\n",
    "        self.address=address\n",
    "\n",
    "    def print_address(self):\n",
    "        print(self.address.get_city(),self.address.pin,self.address.state)\n",
    "\n",
    "class address:\n",
    "    def __init__(self,city,pin,state):\n",
    "        self.__city=city\n",
    "        self.pin = pin\n",
    "        self.state=state\n",
    "\n",
    "    def get_city(self):\n",
    "        return self.__city\n",
    "\n",
    "add1 = address('kolkata',700063,'west bengal')\n",
    "\n",
    "cust=customer('sukanna','female',add1)\n",
    "\n",
    "cust.print_address()"
   ]
  },
  {
   "cell_type": "code",
   "execution_count": 22,
   "metadata": {},
   "outputs": [
    {
     "name": "stdout",
     "output_type": "stream",
     "text": [
      "kolkata 700063 west bengal\n"
     ]
    }
   ],
   "source": [
    "class customer:\n",
    "\n",
    "    def __init__(self,name,gender,address):\n",
    "        self.name=name\n",
    "        self.gender=gender\n",
    "        self.address=address\n",
    "\n",
    "    def print_address(self):\n",
    "        print(self.address._address__city,self.address.pin,self.address.state)\n",
    "\n",
    "class address:\n",
    "    def __init__(self,city,pin,state):\n",
    "        self.__city=city\n",
    "        self.pin = pin\n",
    "        self.state=state\n",
    "\n",
    "    def get_city(self):\n",
    "        return self.__city\n",
    "\n",
    "add1 = address('kolkata',700063,'west bengal')\n",
    "\n",
    "cust=customer('sukanna','female',add1)\n",
    "\n",
    "cust.print_address()"
   ]
  },
  {
   "cell_type": "markdown",
   "metadata": {},
   "source": [
    "THE OWN CLASS CANNOT ACCESS THE PRIVATE VARIABLES OF THE OWNED CLASS"
   ]
  },
  {
   "cell_type": "code",
   "execution_count": 25,
   "metadata": {},
   "outputs": [
    {
     "name": "stdout",
     "output_type": "stream",
     "text": [
      "kolkata 700063 west bengal\n",
      "mumbai 1111 mumbai\n"
     ]
    }
   ],
   "source": [
    "class customer:\n",
    "\n",
    "    def __init__(self,name,gender,address):\n",
    "        self.name=name\n",
    "        self.gender=gender\n",
    "        self.address=address\n",
    "\n",
    "    def print_address(self):\n",
    "        print(self.address._address__city,self.address.pin,self.address.state)\n",
    "    \n",
    "    def edit_profile(self,new_name,new_city,new_pin,new_state):\n",
    "        self.name=new_name\n",
    "        self.address.edit_address(new_city,new_pin,new_city)\n",
    "\n",
    "\n",
    "class address:\n",
    "    def __init__(self,city,pin,state):\n",
    "        self.__city=city\n",
    "        self.pin = pin\n",
    "        self.state=state\n",
    "\n",
    "    def get_city(self):\n",
    "        return self.__city\n",
    "\n",
    "    def edit_address(self,new_city,new_pin,new_state):\n",
    "        self.__city=new_city\n",
    "        self.pin=new_pin\n",
    "        self.state=new_state\n",
    "\n",
    "\n",
    "add1 = address('kolkata',700063,'west bengal')\n",
    "\n",
    "cust=customer('sukanna','female',add1)\n",
    "\n",
    "cust.print_address()\n",
    "\n",
    "cust.edit_profile('ankkit','mumbai',1111,'maharastra')\n",
    "cust.print_address()"
   ]
  },
  {
   "cell_type": "markdown",
   "metadata": {},
   "source": []
  }
 ],
 "metadata": {
  "kernelspec": {
   "display_name": "Python 3",
   "language": "python",
   "name": "python3"
  },
  "language_info": {
   "codemirror_mode": {
    "name": "ipython",
    "version": 3
   },
   "file_extension": ".py",
   "mimetype": "text/x-python",
   "name": "python",
   "nbconvert_exporter": "python",
   "pygments_lexer": "ipython3",
   "version": "3.11.4"
  },
  "orig_nbformat": 4
 },
 "nbformat": 4,
 "nbformat_minor": 2
}
