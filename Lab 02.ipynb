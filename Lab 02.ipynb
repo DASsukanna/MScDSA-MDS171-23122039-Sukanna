{
 "cells": [
  {
   "cell_type": "code",
   "execution_count": 1,
   "metadata": {},
   "outputs": [],
   "source": [
    "list=[]"
   ]
  },
  {
   "cell_type": "code",
   "execution_count": 2,
   "metadata": {},
   "outputs": [],
   "source": [
    "def funcyy():\n",
    "    while True:\n",
    "     name=input(\"enter the name\")\n",
    "     if name=='q':\n",
    "        for i in list:\n",
    "            print(i)\n",
    "            break\n",
    "     elif name in list:\n",
    "        print(\"Name exists\")\n",
    "     else:\n",
    "           list.append(name)\n",
    "        \n",
    "funcyy()  "
   ]
  }
 ],
 "metadata": {
  "kernelspec": {
   "display_name": "Python 3",
   "language": "python",
   "name": "python3"
  },
  "language_info": {
   "codemirror_mode": {
    "name": "ipython",
    "version": 3
   },
   "file_extension": ".py",
   "mimetype": "text/x-python",
   "name": "python",
   "nbconvert_exporter": "python",
   "pygments_lexer": "ipython3",
   "version": "3.11.4"
  },
  "orig_nbformat": 4
 },
 "nbformat": 4,
 "nbformat_minor": 2
}
