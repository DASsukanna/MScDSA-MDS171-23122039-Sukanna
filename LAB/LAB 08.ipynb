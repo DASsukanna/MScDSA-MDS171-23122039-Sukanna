{
 "cells": [
  {
   "cell_type": "code",
   "execution_count": 5,
   "metadata": {},
   "outputs": [
    {
     "name": "stdout",
     "output_type": "stream",
     "text": [
      "Enter elements for matrix_1:\n",
      "Enter elements for matrix_2:\n",
      "Result of matrix multiplication:\n",
      "[5.0, 6.0, 7.0]\n",
      "Result of matrix multiplication:\n",
      "[5.0, 6.0, 7.0]\n"
     ]
    }
   ],
   "source": [
    "# Take user input for the dimensions of matrix_1\n",
    "rows_matrix_1 = int(input(\"Enter the number of rows for matrix_1: \"))\n",
    "cols_matrix_1 = int(input(\"Enter the number of columns for matrix_1: \"))\n",
    "\n",
    "# Initialize an empty matrix_1\n",
    "matrix_1 = []\n",
    "print(\"Enter elements for matrix_1:\")\n",
    "for i in range(rows_matrix_1):\n",
    "    row = []\n",
    "    for j in range(cols_matrix_1):\n",
    "        element = float(input(f\"Enter element at position ({i+1},{j+1}): \"))\n",
    "        row.append(element)\n",
    "    matrix_1.append(row)\n",
    "\n",
    "# Take user input for the dimensions of matrix_2\n",
    "rows_matrix_2= int(input(\"Enter the number of rows for matrix_2: \"))\n",
    "cols_matrix_2 = int(input(\"Enter the number of columns for matrix_2: \"))\n",
    "\n",
    "# Initialize an empty matrix_2\n",
    "matrix_2 = []\n",
    "print(\"Enter elements for matrix_2:\")\n",
    "for i in range(rows_matrix_2):\n",
    "    row = []\n",
    "    for j in range(cols_matrix_2):\n",
    "        element = float(input(f\"Enter element at position ({i+1},{j+1}): \"))\n",
    "        row.append(element)\n",
    "    matrix_2.append(row)\n",
    "if cols_matrix_1 != rows_matrix_2:\n",
    "    print(\"Matrix multiplication is not possible. The number of columns in matrix_1 must be equal to the number of rows in matrix_2.\")\n",
    "else:\n",
    "    # Continue with matrix multiplication\n",
    "# Initialize a result matrix with zeros\n",
    "   result = [[0 for __for in range(cols_matrix_2)] for _ in range(rows_matrix_1)]\n",
    "\n",
    "# Perform matrix multiplication\n",
    "for i in range(rows_matrix_1):\n",
    "    for j in range(cols_matrix_2):\n",
    "        for k in range(cols_matrix_1):\n",
    "            result[i][j] += matrix_1[i][k] * matrix_2[k][j]\n",
    "\n",
    "# Print the result matrix\n",
    "print(\"Result of matrix multiplication:\")\n",
    "for row in result:\n",
    "    print(row)\n",
    "# Take user input for the dimensions and elements of matrices 1 and 2 (as shown above).\n",
    "\n",
    "# Check if matrices can be multiplied.\n",
    "\n",
    "if cols_matrix_1 != rows_matrix_2:\n",
    "    print(\"Matrix multiplication is not possible. The number of columns in matrix_1 must be equal to the number of rows in matrix_2.\")\n",
    "else:\n",
    "    # Initialize a result matrix with zeros\n",
    "    result = [[0 for _ in range(cols_matrix_2)] for _ in range(rows_matrix_1)]\n",
    "\n",
    "    # Perform matrix multiplication\n",
    "    for i in range(rows_matrix_1):\n",
    "        for j in range(cols_matrix_2):\n",
    "            for k in range(cols_matrix_1):\n",
    "                result[i][j] += matrix_1[i][k] * matrix_2[k][j]\n",
    "\n",
    "    # Print the result matrix\n",
    "    print(\"Result of matrix multiplication:\")\n",
    "    for row in result:\n",
    "        print(row)\n"
   ]
  }
 ],
 "metadata": {
  "kernelspec": {
   "display_name": "Python 3",
   "language": "python",
   "name": "python3"
  },
  "language_info": {
   "codemirror_mode": {
    "name": "ipython",
    "version": 3
   },
   "file_extension": ".py",
   "mimetype": "text/x-python",
   "name": "python",
   "nbconvert_exporter": "python",
   "pygments_lexer": "ipython3",
   "version": "3.11.4"
  },
  "orig_nbformat": 4
 },
 "nbformat": 4,
 "nbformat_minor": 2
}
