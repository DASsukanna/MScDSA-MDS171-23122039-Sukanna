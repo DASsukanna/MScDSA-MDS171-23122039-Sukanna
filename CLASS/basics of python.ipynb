{
 "cells": [
  {
   "cell_type": "code",
   "execution_count": null,
   "metadata": {},
   "outputs": [
    {
     "name": "stdout",
     "output_type": "stream",
     "text": [
      "start of program\n"
     ]
    },
    {
     "ename": "",
     "evalue": "",
     "output_type": "error",
     "traceback": [
      "\u001b[1;31mCannot execute code, session has been disposed. Please try restarting the Kernel."
     ]
    },
    {
     "ename": "",
     "evalue": "",
     "output_type": "error",
     "traceback": [
      "\u001b[1;31mThe Kernel crashed while executing code in the the current cell or a previous cell. Please review the code in the cell(s) to identify a possible cause of the failure. Click <a href='https://aka.ms/vscodeJupyterKernelCrash'>here</a> for more info. View Jupyter <a href='command:jupyter.viewOutput'>log</a> for further details."
     ]
    }
   ],
   "source": [
    "#if expression :\n",
    "#statements under if\n",
    "print(\"start of program\")\n",
    "a=int(input(\"enter a number\")) #assignment operator #typecasting\n",
    "if a==8 : #comparison operator\n",
    "    print(\"the value is five\")\n",
    "print(\"program end\")"
   ]
  },
  {
   "cell_type": "code",
   "execution_count": 8,
   "metadata": {},
   "outputs": [
    {
     "name": "stdout",
     "output_type": "stream",
     "text": [
      "start of program\n",
      "this is else part test\n",
      "this is else part test\n",
      "this is else part test\n",
      "this will worl irrespective of if or else \n",
      "entered number is  50\n",
      "program end\n"
     ]
    }
   ],
   "source": [
    "print(\"start of program\")\n",
    "a=int(input(\"enter a number\")) #assignment operator #typecasting\n",
    "if a==8 : #comparison operator\n",
    "    print(\"the value is eight\")\n",
    "else :\n",
    "     print(\"this is else part test\")\n",
    "     print(\"this is else part test\")\n",
    "     print(\"this is else part test\")\n",
    "print(\"this will workirrespective of if or else \")\n",
    "print(\"entered number is \",a)\n",
    "print(\"program end\")"
   ]
  },
  {
   "cell_type": "code",
   "execution_count": 15,
   "metadata": {},
   "outputs": [
    {
     "name": "stdout",
     "output_type": "stream",
     "text": [
      "the number is odd\n"
     ]
    }
   ],
   "source": [
    "#write a program to check if the entered number is odd or even\n",
    "a=float(input(\"enter the number\"))\n",
    "if a%2==0 :\n",
    "    print(\"the number is even\")\n",
    "print(\"the number is odd\")\n"
   ]
  },
  {
   "cell_type": "code",
   "execution_count": null,
   "metadata": {},
   "outputs": [],
   "source": []
  },
  {
   "cell_type": "code",
   "execution_count": null,
   "metadata": {},
   "outputs": [],
   "source": [
    "a=0\n",
    "while a<5:\n",
    "    print(a)\n",
    "    a=a+1    #a+=1(short hand notation)\n",
    "    \n"
   ]
  },
  {
   "cell_type": "code",
   "execution_count": 1,
   "metadata": {},
   "outputs": [
    {
     "name": "stdout",
     "output_type": "stream",
     "text": [
      "1\n",
      "2\n",
      "3\n",
      "4\n"
     ]
    }
   ],
   "source": [
    "#break | pass | continue\n",
    "for item in range(1,20,1):\n",
    "    if item==5:\n",
    "      break  #exit from the loop\n",
    "    print(item)\n",
    "\n",
    "\n",
    "\n",
    "\n",
    "\n",
    "\n",
    "\n",
    "\n",
    "\n"
   ]
  },
  {
   "cell_type": "code",
   "execution_count": 2,
   "metadata": {},
   "outputs": [
    {
     "name": "stdout",
     "output_type": "stream",
     "text": [
      "1\n",
      "2\n",
      "3\n",
      "4\n",
      "6\n",
      "7\n",
      "8\n",
      "9\n",
      "10\n",
      "11\n",
      "12\n",
      "13\n",
      "14\n",
      "15\n",
      "16\n",
      "17\n",
      "18\n",
      "19\n"
     ]
    }
   ],
   "source": [
    "for item in range(1,20,1):\n",
    "    if item==5:\n",
    "      continue  #continues the loop\n",
    "    print(item)\n"
   ]
  },
  {
   "cell_type": "code",
   "execution_count": null,
   "metadata": {},
   "outputs": [],
   "source": [
    "#if condition :\n",
    "#   if condition:\n",
    "#        print(\"\")\n",
    "#    else:\n",
    "#        pass\n",
    "#else:\n",
    "#   pass"
   ]
  },
  {
   "cell_type": "code",
   "execution_count": 5,
   "metadata": {},
   "outputs": [
    {
     "name": "stdout",
     "output_type": "stream",
     "text": [
      "<class 'list'>\n",
      "<class 'set'>\n",
      "<class 'list'>\n"
     ]
    }
   ],
   "source": [
    "list_ex=[\"appli\",\"pineapple\",\"banana\",\"apple\",\"apple\",\"orange\"] #extract unique item from list\n",
    "set_ex=set(list_ex) #set has unique value nd cannot have duplicate values\n",
    "back_to_list=list(set_ex)\n",
    "#for item in set_ex:\n",
    "#    print(item)\n",
    "print(type(list_ex))\n",
    "print(type(set_ex))\n",
    "print(type(back_to_list))\n",
    "\n"
   ]
  },
  {
   "cell_type": "code",
   "execution_count": 16,
   "metadata": {},
   "outputs": [
    {
     "name": "stdout",
     "output_type": "stream",
     "text": [
      "[]\n"
     ]
    }
   ],
   "source": [
    "#WRITE A PROGRAM TO ACCEPT  RANDOM STRINGS. IDENTIFY THE UNIQUE ITEMS AND THEIR COUNT\n",
    "m=[]\n",
    "lst=list(m)\n",
    "set=set(lst)\n",
    "lst1=list(set)\n",
    "print(lst1)"
   ]
  },
  {
   "cell_type": "code",
   "execution_count": null,
   "metadata": {},
   "outputs": [
    {
     "ename": "SyntaxError",
     "evalue": "expected ':' (1441913400.py, line 11)",
     "output_type": "error",
     "traceback": [
      "\u001b[1;36m  Cell \u001b[1;32mIn[17], line 11\u001b[1;36m\u001b[0m\n\u001b[1;33m    for val in list\u001b[0m\n\u001b[1;37m                   ^\u001b[0m\n\u001b[1;31mSyntaxError\u001b[0m\u001b[1;31m:\u001b[0m expected ':'\n"
     ]
    }
   ],
   "source": [
    "list_ex=[]\n",
    "for item in range(0,10,1):\n",
    "    val=input(\"enter value: \")\n",
    "    val=val.strip()\n",
    "    val=val.upper()\n",
    "    list_ex.append(val)\n",
    "\n",
    "unique=set(list_ex)\n",
    "for item in unique:\n",
    "    count=0\n",
    "    for val in list_ex:\n",
    "        if item==val:\n",
    "            count+=1\n",
    "            print(item,\"is present\",count,\"items.\")\n"
   ]
  },
  {
   "cell_type": "code",
   "execution_count": 6,
   "metadata": {},
   "outputs": [
    {
     "name": "stdout",
     "output_type": "stream",
     "text": [
      "Sukanna\n"
     ]
    }
   ],
   "source": [
    "my_dict={\"Name\" :\"Sukanna\",\n",
    "         \"Age\":55,\n",
    "         \"Boolean value\":True\n",
    "         }\n",
    "print(my_dict[\"Name\"])"
   ]
  },
  {
   "cell_type": "code",
   "execution_count": 8,
   "metadata": {},
   "outputs": [
    {
     "name": "stdout",
     "output_type": "stream",
     "text": [
      "{'Name': 'NEW NAME', 'Age': 55, 'Boolean value': True}\n"
     ]
    }
   ],
   "source": [
    "my_dict[\"Name\"]=\"NEW NAME\"  #replace the previous one with a new one\n",
    "print(my_dict)"
   ]
  },
  {
   "cell_type": "code",
   "execution_count": 11,
   "metadata": {},
   "outputs": [
    {
     "name": "stdout",
     "output_type": "stream",
     "text": [
      "dict_values(['NEW NAME', 55, True, 9163209619])\n",
      "Name\n",
      "Age\n",
      "Boolean value\n",
      "phonr\n"
     ]
    }
   ],
   "source": [
    "print(my_dict.values())\n",
    "for item in my_dict.keys():\n",
    "    print(item)"
   ]
  },
  {
   "cell_type": "code",
   "execution_count": 9,
   "metadata": {},
   "outputs": [
    {
     "name": "stdout",
     "output_type": "stream",
     "text": [
      "{'Name': 'NEW NAME', 'Age': 55, 'Boolean value': True, 'phonr': 9163209619}\n"
     ]
    }
   ],
   "source": [
    "my_dict[\"phone\"]=9163209619 #add new keys\n",
    "print(my_dict)"
   ]
  },
  {
   "cell_type": "code",
   "execution_count": 13,
   "metadata": {},
   "outputs": [
    {
     "data": {
      "text/plain": [
       "dict_keys(['Name', 'Age', 'Boolean value', 'phonr'])"
      ]
     },
     "execution_count": 13,
     "metadata": {},
     "output_type": "execute_result"
    }
   ],
   "source": [
    "my_dict.keys()"
   ]
  },
  {
   "cell_type": "code",
   "execution_count": 22,
   "metadata": {},
   "outputs": [
    {
     "name": "stdout",
     "output_type": "stream",
     "text": [
      "{'name': 'sukannna', 'phone': '9748836194'}\n"
     ]
    }
   ],
   "source": [
    "student={\n",
    "    \"mscdsa\":{\n",
    "        \"01\":{\n",
    "            \"name\":\"sukannna\",\n",
    "            \"phone\":\"9748836194\"\n",
    "        },\n",
    "\n",
    "        \"02\":{\n",
    "\n",
    "        \n",
    "        \"another_name\": \"something else\",\n",
    "        \"phone\":\"654798\"\n",
    "        }\n",
    "\n",
    "    }\n",
    "}\n",
    "\n",
    "\n",
    "print(student[\"mscdsa\"][\"01\"]) \n",
    "#print(student[\"mscdsa\"][\"01\"][\"name\"],\\\"t\",student[\"mscdsa\"][\"02\"][\"phone\"])\n"
   ]
  },
  {
   "cell_type": "code",
   "execution_count": 31,
   "metadata": {},
   "outputs": [
    {
     "name": "stdout",
     "output_type": "stream",
     "text": [
      "[{'rollnumber': 2345871, 'name': 'sukanna', 'phone': 457896512, 'email': 'sukannadas5821@dsf.in  '}, {'rollnumber': 23455471, 'name': 'suparna', 'phone': 457896512, 'email': 'suparnadas5821@dsf.in  '}]\n",
      "{'rollnumber': 2345871, 'name': 'sukanna', 'phone': 457896512, 'email': 'sukannadas5821@dsf.in  '}\n",
      "2345871\tsukanna\t457896512\tsukannadas5821@dsf.in  \t\n",
      "{'rollnumber': 23455471, 'name': 'suparna', 'phone': 457896512, 'email': 'suparnadas5821@dsf.in  '}\n",
      "23455471\tsuparna\t457896512\tsuparnadas5821@dsf.in  \t\n"
     ]
    }
   ],
   "source": [
    "mscdsa = [\n",
    "    {\n",
    "        \"rollnumber\":2345871,\n",
    "        \"name\":\"sukanna\",\n",
    "        \"phone\":457896512,\n",
    "        \"email\":\"sukannadas5821@dsf.in  \", \n",
    "          },\n",
    "\n",
    "        {\n",
    "\n",
    "        \"rollnumber\":23455471,\n",
    "        \"name\":\"suparna\",\n",
    "        \"phone\":457896512,\n",
    "        \"email\":\"suparnadas5821@dsf.in  \",}\n",
    "\n",
    "]\n",
    "print(mscdsa)\n",
    "for student in mscdsa:\n",
    "    print(student)\n",
    "    for key in student.keys():\n",
    "        print(student[key],end=\"\\t\")\n",
    "    print()"
   ]
  },
  {
   "cell_type": "code",
   "execution_count": null,
   "metadata": {},
   "outputs": [],
   "source": [
    "dict_1={1: }"
   ]
  },
  {
   "cell_type": "code",
   "execution_count": null,
   "metadata": {},
   "outputs": [],
   "source": [
    "{{}}"
   ]
  },
  {
   "cell_type": "code",
   "execution_count": 1,
   "metadata": {},
   "outputs": [
    {
     "name": "stdout",
     "output_type": "stream",
     "text": [
      "******************************\n",
      "1.  enter a name\n",
      "2. list the names\n",
      "3.  serach a name\n",
      "4.  exit\n",
      "enter your choice : \n",
      "you have entered your choice : \n",
      "******************************\n",
      "1.  enter a name\n",
      "2. list the names\n",
      "3.  serach a name\n",
      "4.  exit\n",
      "enter your choice : \n",
      "you have entered your choice : sukanna\n",
      "******************************\n",
      "1.  enter a name\n",
      "2. list the names\n",
      "3.  serach a name\n",
      "4.  exit\n",
      "enter your choice : \n",
      "you have entered your choice : 2\n",
      "******************************\n",
      "1.  enter a name\n",
      "2. list the names\n",
      "3.  serach a name\n",
      "4.  exit\n",
      "enter your choice : \n"
     ]
    },
    {
     "ename": "KeyboardInterrupt",
     "evalue": "Interrupted by user",
     "output_type": "error",
     "traceback": [
      "\u001b[1;31m---------------------------------------------------------------------------\u001b[0m",
      "\u001b[1;31mKeyboardInterrupt\u001b[0m                         Traceback (most recent call last)",
      "\u001b[1;32md:\\gitfiles\\MScDSA-MDS171-23122039-Sukanna\\basics of python.ipynb Cell 21\u001b[0m line \u001b[0;36m9\n\u001b[0;32m      <a href='vscode-notebook-cell:/d%3A/gitfiles/MScDSA-MDS171-23122039-Sukanna/basics%20of%20python.ipynb#X26sZmlsZQ%3D%3D?line=5'>6</a>\u001b[0m \u001b[39mprint\u001b[39m(\u001b[39m\"\u001b[39m\u001b[39m4.  exit\u001b[39m\u001b[39m\"\u001b[39m)\n\u001b[0;32m      <a href='vscode-notebook-cell:/d%3A/gitfiles/MScDSA-MDS171-23122039-Sukanna/basics%20of%20python.ipynb#X26sZmlsZQ%3D%3D?line=7'>8</a>\u001b[0m \u001b[39mprint\u001b[39m(\u001b[39m\"\u001b[39m\u001b[39menter your choice : \u001b[39m\u001b[39m\"\u001b[39m)\n\u001b[1;32m----> <a href='vscode-notebook-cell:/d%3A/gitfiles/MScDSA-MDS171-23122039-Sukanna/basics%20of%20python.ipynb#X26sZmlsZQ%3D%3D?line=8'>9</a>\u001b[0m choice\u001b[39m=\u001b[39m\u001b[39minput\u001b[39;49m(\u001b[39m\"\u001b[39;49m\u001b[39myour choice  ? \u001b[39;49m\u001b[39m\"\u001b[39;49m)\n\u001b[0;32m     <a href='vscode-notebook-cell:/d%3A/gitfiles/MScDSA-MDS171-23122039-Sukanna/basics%20of%20python.ipynb#X26sZmlsZQ%3D%3D?line=9'>10</a>\u001b[0m \u001b[39mprint\u001b[39m(\u001b[39m\"\u001b[39m\u001b[39myou have entered your choice :\u001b[39m\u001b[39m\"\u001b[39m,choice)    \n",
      "File \u001b[1;32m~\\AppData\\Roaming\\Python\\Python311\\site-packages\\ipykernel\\kernelbase.py:1202\u001b[0m, in \u001b[0;36mKernel.raw_input\u001b[1;34m(self, prompt)\u001b[0m\n\u001b[0;32m   1200\u001b[0m     msg \u001b[39m=\u001b[39m \u001b[39m\"\u001b[39m\u001b[39mraw_input was called, but this frontend does not support input requests.\u001b[39m\u001b[39m\"\u001b[39m\n\u001b[0;32m   1201\u001b[0m     \u001b[39mraise\u001b[39;00m StdinNotImplementedError(msg)\n\u001b[1;32m-> 1202\u001b[0m \u001b[39mreturn\u001b[39;00m \u001b[39mself\u001b[39;49m\u001b[39m.\u001b[39;49m_input_request(\n\u001b[0;32m   1203\u001b[0m     \u001b[39mstr\u001b[39;49m(prompt),\n\u001b[0;32m   1204\u001b[0m     \u001b[39mself\u001b[39;49m\u001b[39m.\u001b[39;49m_parent_ident[\u001b[39m\"\u001b[39;49m\u001b[39mshell\u001b[39;49m\u001b[39m\"\u001b[39;49m],\n\u001b[0;32m   1205\u001b[0m     \u001b[39mself\u001b[39;49m\u001b[39m.\u001b[39;49mget_parent(\u001b[39m\"\u001b[39;49m\u001b[39mshell\u001b[39;49m\u001b[39m\"\u001b[39;49m),\n\u001b[0;32m   1206\u001b[0m     password\u001b[39m=\u001b[39;49m\u001b[39mFalse\u001b[39;49;00m,\n\u001b[0;32m   1207\u001b[0m )\n",
      "File \u001b[1;32m~\\AppData\\Roaming\\Python\\Python311\\site-packages\\ipykernel\\kernelbase.py:1245\u001b[0m, in \u001b[0;36mKernel._input_request\u001b[1;34m(self, prompt, ident, parent, password)\u001b[0m\n\u001b[0;32m   1242\u001b[0m \u001b[39mexcept\u001b[39;00m \u001b[39mKeyboardInterrupt\u001b[39;00m:\n\u001b[0;32m   1243\u001b[0m     \u001b[39m# re-raise KeyboardInterrupt, to truncate traceback\u001b[39;00m\n\u001b[0;32m   1244\u001b[0m     msg \u001b[39m=\u001b[39m \u001b[39m\"\u001b[39m\u001b[39mInterrupted by user\u001b[39m\u001b[39m\"\u001b[39m\n\u001b[1;32m-> 1245\u001b[0m     \u001b[39mraise\u001b[39;00m \u001b[39mKeyboardInterrupt\u001b[39;00m(msg) \u001b[39mfrom\u001b[39;00m \u001b[39mNone\u001b[39;00m\n\u001b[0;32m   1246\u001b[0m \u001b[39mexcept\u001b[39;00m \u001b[39mException\u001b[39;00m:\n\u001b[0;32m   1247\u001b[0m     \u001b[39mself\u001b[39m\u001b[39m.\u001b[39mlog\u001b[39m.\u001b[39mwarning(\u001b[39m\"\u001b[39m\u001b[39mInvalid Message:\u001b[39m\u001b[39m\"\u001b[39m, exc_info\u001b[39m=\u001b[39m\u001b[39mTrue\u001b[39;00m)\n",
      "\u001b[1;31mKeyboardInterrupt\u001b[0m: Interrupted by user"
     ]
    }
   ],
   "source": [
    "namelist=[]\n",
    "\n",
    "def storename():\n",
    "    name=input(\"enter the name to be saved : \")\n",
    "    name=name.strip().title()\n",
    "    namelist.append(name)\n",
    "    return name\n",
    "    \n",
    "\n",
    "while True:\n",
    "    print(\"*\"*30)\n",
    "    print(\"1.  enter a name\")\n",
    "    print(\"2. list the names\")\n",
    "    print(\"3.  serach a name\")\n",
    "    print(\"4.  exit\")\n",
    "     \n",
    "    print(\"enter your choice : \")\n",
    "    choice=input(\"your choice  ? \")\n",
    "    print(\"you have entered your choice :\",choice)    \n"
   ]
  },
  {
   "cell_type": "code",
   "execution_count": null,
   "metadata": {},
   "outputs": [],
   "source": []
  },
  {
   "cell_type": "code",
   "execution_count": 10,
   "metadata": {},
   "outputs": [
    {
     "name": "stdout",
     "output_type": "stream",
     "text": [
      "******************************\n",
      "name ,anagement.Application\n",
      "******************************\n",
      "******************************\n",
      "1.  enter a name\n",
      "2. list the names\n",
      "3.  serach a name\n",
      "4.  exit\n",
      "enter your choice : \n",
      "you have entered your choice : 3\n"
     ]
    },
    {
     "ename": "TypeError",
     "evalue": "searchname() missing 1 required positional argument: 'search'",
     "output_type": "error",
     "traceback": [
      "\u001b[1;31m---------------------------------------------------------------------------\u001b[0m",
      "\u001b[1;31mTypeError\u001b[0m                                 Traceback (most recent call last)",
      "\u001b[1;32md:\\gitfiles\\MScDSA-MDS171-23122039-Sukanna\\basics of python.ipynb Cell 22\u001b[0m line \u001b[0;36m4\n\u001b[0;32m     <a href='vscode-notebook-cell:/d%3A/gitfiles/MScDSA-MDS171-23122039-Sukanna/basics%20of%20python.ipynb#X30sZmlsZQ%3D%3D?line=41'>42</a>\u001b[0m \u001b[39melif\u001b[39;00m \u001b[39mint\u001b[39m(choice)\u001b[39m==\u001b[39m\u001b[39m3\u001b[39m:\n\u001b[0;32m     <a href='vscode-notebook-cell:/d%3A/gitfiles/MScDSA-MDS171-23122039-Sukanna/basics%20of%20python.ipynb#X30sZmlsZQ%3D%3D?line=42'>43</a>\u001b[0m     name\u001b[39m=\u001b[39m\u001b[39minput\u001b[39m(\u001b[39m\"\u001b[39m\u001b[39menter a name to be searched\u001b[39m\u001b[39m\"\u001b[39m)\n\u001b[1;32m---> <a href='vscode-notebook-cell:/d%3A/gitfiles/MScDSA-MDS171-23122039-Sukanna/basics%20of%20python.ipynb#X30sZmlsZQ%3D%3D?line=43'>44</a>\u001b[0m     searchname()\n\u001b[0;32m     <a href='vscode-notebook-cell:/d%3A/gitfiles/MScDSA-MDS171-23122039-Sukanna/basics%20of%20python.ipynb#X30sZmlsZQ%3D%3D?line=44'>45</a>\u001b[0m \u001b[39melif\u001b[39;00m \u001b[39mint\u001b[39m(choice)\u001b[39m==\u001b[39m\u001b[39m4\u001b[39m:\n\u001b[0;32m     <a href='vscode-notebook-cell:/d%3A/gitfiles/MScDSA-MDS171-23122039-Sukanna/basics%20of%20python.ipynb#X30sZmlsZQ%3D%3D?line=45'>46</a>\u001b[0m  exit()\n",
      "\u001b[1;31mTypeError\u001b[0m: searchname() missing 1 required positional argument: 'search'"
     ]
    }
   ],
   "source": [
    "namelist=[]\n",
    "student{\n",
    "    \"name :\"\n",
    "}\n",
    "\n",
    "def storename():\n",
    "    name=input(\"enter the name to be saved : \")\n",
    "    name=name.strip().title()\n",
    "    namelist.append(name)\n",
    "    return name\n",
    "\n",
    "def listname():\n",
    "    print(\"*\"*30)\n",
    "    print(\"name in the list\")\n",
    "    print(\"*\"*30)\n",
    "    for name in namelist:\n",
    "        print(name)\n",
    "        print(\"*\"*30)\n",
    "\n",
    "def searchname(search):\n",
    "    search=search.strip().title()\n",
    "    for name in namelist():\n",
    "        if name==search:       #*****this will search or all the values existing in the list wether it is matched or not and print for all the values that it exists or does'nt exist********\n",
    "            print(\"name exist in the list \")\n",
    "print(\"*\"*30)\n",
    "print(\"name ,anagement.Application\")\n",
    "print(\"*\"*30)\n",
    "\n",
    "while True:\n",
    "    print(\"*\"*30)\n",
    "    print(\"1.  enter a name\")\n",
    "    print(\"2. list the names\")\n",
    "    print(\"3.  serach a name\")\n",
    "    print(\"4.  exit\")\n",
    "     \n",
    "    print(\"enter your choice : \")\n",
    "    choice=input(\"your choice  ? \")\n",
    "    print(\"you have entered your choice :\",choice)\n",
    "\n",
    "    if int(choice)==1:\n",
    "        name=storename()\n",
    "        print(\"name added succesfully\".format(name))\n",
    "    elif int(choice)==2:\n",
    "        listname()\n",
    "    elif int(choice)==3:\n",
    "        name=input(\"enter a name to be searched\")\n",
    "        searchname()\n",
    "    elif int(choice)==4:\n",
    "        exit()\n",
    "    else:\n",
    "        print(\"invalid option\")"
   ]
  },
  {
   "cell_type": "code",
   "execution_count": 13,
   "metadata": {},
   "outputs": [
    {
     "name": "stdout",
     "output_type": "stream",
     "text": [
      "{}\n"
     ]
    }
   ],
   "source": [
    "\n",
    "students=[]\n",
    "def studentname():\n",
    "    name=input(\"enter the name \")"
   ]
  },
  {
   "cell_type": "code",
   "execution_count": 6,
   "metadata": {},
   "outputs": [
    {
     "name": "stdout",
     "output_type": "stream",
     "text": [
      "the name is added sucessfully!!!\n",
      "1.Add contacts \n",
      "2.edit \n",
      "3.delete \n",
      "4.search \n",
      "5.exit \n"
     ]
    },
    {
     "name": "stdout",
     "output_type": "stream",
     "text": [
      "1.Add contacts \n",
      "2.edit \n",
      "3.delete \n",
      "4.search \n",
      "5.exit \n",
      "1.Add contacts \n",
      "2.edit \n",
      "3.delete \n",
      "4.search \n",
      "5.exit \n",
      "1.Add contacts \n",
      "2.edit \n",
      "3.delete \n",
      "4.search \n",
      "5.exit \n",
      "1.Add contacts \n",
      "2.edit \n",
      "3.delete \n",
      "4.search \n",
      "5.exit \n"
     ]
    }
   ],
   "source": []
  },
  {
   "cell_type": "code",
   "execution_count": null,
   "metadata": {},
   "outputs": [],
   "source": [
    "# develop a contact management program where users can edit ,add,delete and search contact details using a dictionary.the menu options would faciliate bthese actions\n",
    "contact_management={}\n",
    "\n",
    "def add_contact():\n",
    "    name=input(\"enter the name : \")\n",
    "    phone=input(\"enter the phone number\")\n",
    "    email=input(\"enter the email adress\")\n",
    "    contact_management[name]={\"phone\":\"phone\",\n",
    "                               \"email\":\"email\"}\n",
    "print(\"the name is added sucessfully!!!\")\n",
    "\n",
    "def edit():\n",
    "   name=input(\"enter the name you want to edit: \")\n",
    "   if name in contact_management[name]:\n",
    "        phone=(\"enter the phone number for {name} \" )\n",
    "        email=(\"enter the email adress for {email} \" )\n",
    "        contact_management[name]={\"name\":\"name\",\"email\":\"email\"}\n",
    "        print(\"details for {name} is succesfull\")\n",
    "   else:\n",
    "       print(\"the name is not here.\")\n",
    "\n",
    "def delete():\n",
    "    name=input(\"enter the name you want to delete: \")\n",
    "    if name in contact_management[name]:\n",
    "        del contact_management[name]\n",
    "        print(\"the name is deleted...\")\n",
    "    else:\n",
    "        print(\"the namee is not here\")   \n",
    "\n",
    "def search():\n",
    "    name=input(\"enter the name you want to search \") \n",
    "    if name in contact_management:\n",
    "        contact=contact_management[name]\n",
    "        print(\"phone: {contact['phone']}\")\n",
    "        print(\"email : {contact['email]}\")\n",
    "    else:\n",
    "        print(\"The name is not here\")  \n",
    "\n",
    "def menu():\n",
    "    print(\"1.Add contacts \")\n",
    "    print(\"2.edit \")\n",
    "    print(\"3.delete \")\n",
    "    print(\"4.search \")\n",
    "    print(\"5.exit \")\n",
    "\n",
    "while True:\n",
    "    menu()\n",
    "    choice=input(\"enter your choice\")\n",
    "     \n",
    "    if choice==1:\n",
    "        add_contact()\n",
    "    if choice==2:\n",
    "        edit()\n",
    "    if choice==3:\n",
    "        delete()\n",
    "    if choice==4:\n",
    "        search()\n",
    "    if choice==5:\n",
    "        break\n",
    "\n",
    "\n",
    "\n",
    "\n",
    "\n",
    "\n",
    "       \n",
    "\n",
    "\n",
    "    \n",
    "\n",
    "\n",
    "\n",
    "        \n",
    "    \n",
    "    \n"
   ]
  },
  {
   "cell_type": "markdown",
   "metadata": {},
   "source": [
    "ontacts = {}\n",
    "\n",
    "def display_menu():\n",
    "    print(\"\\nContact Management System\")\n",
    "    print(\"1. Add Contact\")\n",
    "    print(\"2. Edit Contact\")\n",
    "    print(\"3. Delete Contact\")\n",
    "    print(\"4. Search Contact\")\n",
    "    print(\"5. List All Contacts\")\n",
    "    print(\"6. Exit\")\n",
    "\n",
    "def add_contact():\n",
    "    name = input(\"Enter the name of the contact: \")\n",
    "    phone = input(\"Enter the phone number: \")\n",
    "    email = input(\"Enter the email address: \")\n",
    "    contacts[name] = {\"Phone\": phone, \"Email\": email}\n",
    "    print(f\"Contact {name} added successfully.\")\n",
    "\n",
    "def edit_contact():\n",
    "    name = input(\"Enter the name of the contact to edit: \")\n",
    "    if name in contacts:\n",
    "        phone = input(f\"Enter the new phone number for {name}: \")\n",
    "        email = input(f\"Enter the new email address for {name}: \")\n",
    "        contacts[name] = {\"Phone\": phone, \"Email\": email}\n",
    "        print(f\"Contact {name} updated successfully.\")\n",
    "    else:\n",
    "        print(f\"Contact {name} not found.\")\n",
    "\n",
    "def delete_contact():\n",
    "    name = input(\"Enter the name of the contact to delete: \")\n",
    "    if name in contacts:\n",
    "        del contacts[name]\n",
    "        print(f\"Contact {name} deleted successfully.\")\n",
    "    else:\n",
    "        print(f\"Contact {name} not found.\")\n",
    "\n",
    "def search_contact():\n",
    "    name = input(\"Enter the name of the contact to search: \")\n",
    "    if name in contacts:\n",
    "        contact = contacts[name]\n",
    "        print(f\"Contact Details for {name}:\")\n",
    "        print(f\"Phone: {contact['Phone']}\")\n",
    "        print(f\"Email: {contact['Email']}\")\n",
    "    else:\n",
    "        print(f\"Contact {name} not found.\")\n",
    "\n",
    "def list_all_contacts():\n",
    "    print(\"\\nAll Contacts:\")\n",
    "    for name, contact in contacts.items():\n",
    "        print(f\"Name: {name}, Phone: {contact['Phone']}, Email: {contact['Email']}\")\n",
    "\n",
    "while True:\n",
    "    display_menu()\n",
    "    choice = input(\"Enter your choice (1-6): \")\n",
    "\n",
    "    if choice == \"1\":\n",
    "        add_contact()\n",
    "    elif choice == \"2\":\n",
    "        edit_contact()\n",
    "    elif choice == \"3\":\n",
    "        delete_contact()\n",
    "    elif choice == \"4\":\n",
    "        search_contact()\n",
    "    elif choice == \"5\":\n",
    "        list_all_contacts()\n",
    "    elif choice == \"6\":\n",
    "        print(\"Exiting the Contact Management System. Goodbye!\")\n",
    "        break\n",
    "    else:\n",
    "        print(\"Invalid choice. Please select a valid option (1-6).\")\n",
    "\n",
    "\n",
    "\n",
    "\n"
   ]
  },
  {
   "cell_type": "code",
   "execution_count": 1,
   "metadata": {},
   "outputs": [
    {
     "name": "stdout",
     "output_type": "stream",
     "text": [
      "1.Add contacts \n",
      "2.edit \n",
      "3.delete \n",
      "4.search \n",
      "5.exit \n",
      "the name is added sucessfully!!!\n",
      "1.Add contacts \n",
      "2.edit \n",
      "3.delete \n",
      "4.search \n",
      "5.exit \n",
      "1.Add contacts \n",
      "2.edit \n",
      "3.delete \n",
      "4.search \n",
      "5.exit \n"
     ]
    },
    {
     "ename": "",
     "evalue": "",
     "output_type": "error",
     "traceback": [
      "\u001b[1;31mCannot execute code, session has been disposed. Please try restarting the Kernel."
     ]
    },
    {
     "ename": "",
     "evalue": "",
     "output_type": "error",
     "traceback": [
      "\u001b[1;31mThe Kernel crashed while executing code in the the current cell or a previous cell. Please review the code in the cell(s) to identify a possible cause of the failure. Click <a href='https://aka.ms/vscodeJupyterKernelCrash'>here</a> for more info. View Jupyter <a href='command:jupyter.viewOutput'>log</a> for further details."
     ]
    }
   ],
   "source": [
    "# develop a contact management program where users can edit ,add,delete and search contact details using a dictionary.the menu options would faciliate bthese actions\n",
    "contact_management={}\n",
    "\n",
    "def add_contact():\n",
    "    name=input(\"enter the name : \")\n",
    "    phone=input(\"enter the phone number\")\n",
    "    email=input(\"enter the email adress\")\n",
    "    contact_management[name]={\"phone\":phone,\"email\":email}\n",
    "    print(\"the name is added sucessfully!!!\")\n",
    "\n",
    "def edit():\n",
    "   name=input(\"enter the name you want to edit: \")\n",
    "   if name in contact_management[name]:\n",
    "        phone=(\"enter the phone number for {name} \" )\n",
    "        email=(\"enter the email adress for {email} \" )\n",
    "        contact_management[name]={\"name\":\"name\",\"email\":\"email\"}\n",
    "        print(\"details for {name} is succesfull\")\n",
    "   else:\n",
    "        print(\"the name is not here.\")\n",
    "\n",
    "def delete():\n",
    "    name=input(\"enter the name you want to delete: \")\n",
    "    if name in contact_management[name]:\n",
    "        del contact_management[name]\n",
    "        print(\"the name is deleted...\")\n",
    "    else:\n",
    "        print(\"the namee is not here\")   \n",
    "\n",
    "def search():\n",
    "    name=input(\"enter the name you want to search \") \n",
    "    if name in contact_management:\n",
    "        contact=contact_management[name]\n",
    "        print(\"phone: {contact['phone']}\")\n",
    "        print(\"email : {contact['email]}\")\n",
    "\n",
    "    else:\n",
    "        print(\"The name is not here\") \n",
    "\n",
    "\n",
    "\n",
    "\n",
    "\n",
    "def menu():\n",
    "    print(\"1.Add contacts \")\n",
    "    print(\"2.edit \")\n",
    "    print(\"3.delete \")\n",
    "    print(\"4.search \")\n",
    "    print(\"5.exit \")\n",
    "\n",
    "\n",
    "while True:\n",
    "    menu()\n",
    "    choice=int(input(\"enter your choice\"))\n",
    "     \n",
    "    if choice==1:\n",
    "        add_contact()\n",
    "    elif choice==2:\n",
    "        edit()\n",
    "    elif choice==3:\n",
    "        delete()\n",
    "    elif choice==4:\n",
    "        search()\n",
    "    elif choice==5:\n",
    "        exit()\n",
    "    else:\n",
    "        print(\"invalid input\")\n",
    "\n",
    "\n",
    "\n",
    "\n",
    "\n",
    "\n",
    "       \n",
    "\n",
    "\n",
    "    \n",
    "\n",
    "\n",
    "\n",
    "        \n",
    "    \n",
    "    \n"
   ]
  },
  {
   "cell_type": "code",
   "execution_count": 1,
   "metadata": {},
   "outputs": [
    {
     "name": "stdout",
     "output_type": "stream",
     "text": [
      "Alice 25\n",
      "Bob 30\n",
      "Charlie 35\n"
     ]
    }
   ],
   "source": [
    "import pickle\n",
    "\n",
    "class Person:\n",
    "    def __init__(self, name, age):\n",
    "        self.name = name\n",
    "        self.age = age\n",
    "\n",
    "people = [Person('Alice', 25), Person('Bob', 30), Person('Charlie', 35)]\n",
    "\n",
    "# Save objects to a file\n",
    "with open('people.pickle', 'wb') as file:\n",
    "    pickle.dump(people, file)\n",
    "\n",
    "# Read objects from a file\n",
    "with open('people.pickle', 'rb') as file:\n",
    "    loaded_people = pickle.load(file)\n",
    "\n",
    "for person in loaded_people:\n",
    "    print(person.name, person.age)\n",
    "    "
   ]
  },
  {
   "cell_type": "code",
   "execution_count": 2,
   "metadata": {},
   "outputs": [],
   "source": [
    "import csv\n",
    "\n",
    "data_list = [\n",
    "    {'Name': 'John', 'Age': 30},\n",
    "    {'Name': 'Alice', 'Age': 25},\n",
    "    {'Name': 'Bob', 'Age': 35}\n",
    "]\n",
    "\n",
    "with open('data.csv', 'w', newline='') as csvfile:\n",
    "    fieldnames = ['Name', 'Age']\n",
    "    writer = csv.DictWriter(csvfile, fieldnames=fieldnames)\n",
    "    writer.writeheader()\n",
    "    for row in data_list:\n",
    "        writer.writerow(row)\n"
   ]
  },
  {
   "cell_type": "code",
   "execution_count": 3,
   "metadata": {},
   "outputs": [
    {
     "name": "stdout",
     "output_type": "stream",
     "text": [
      "Some data to write to the file\n"
     ]
    }
   ],
   "source": [
    "\n",
    "\n",
    "class FileHandler:\n",
    "    def __init__(self, filename):\n",
    "        self.filename = filename\n",
    "\n",
    "    def read_data(self):\n",
    "        with open(self.filename, 'r') as file:\n",
    "            return file.read()\n",
    "\n",
    "    def write_data(self, data):\n",
    "        with open(self.filename, 'w') as file:\n",
    "            file.write(data)\n",
    "\n",
    "# Usage\n",
    "file_manager = FileHandler('data.txt')\n",
    "file_manager.write_data(\"Some data to write to the file\")\n",
    "file_contents = file_manager.read_data()\n",
    "print(file_contents)\n"
   ]
  },
  {
   "cell_type": "code",
   "execution_count": null,
   "metadata": {},
   "outputs": [],
   "source": [
    "import pandas as pd\n",
    "import seaborn as sns\n"
   ]
  },
  {
   "cell_type": "markdown",
   "metadata": {},
   "source": [
    "1) LOAD A CSV AND SET A NEW COLOUMN NAMES.\n",
    "2) RENAME COLOUMN NAME ( ONE COLOUMN, MULTIPLE COLOUMN)\n",
    "3) LOAD A DATASET AND SET ONE COLOUMN AS INDEX COLOUMN\n",
    "4) SPLIT YOUR DATA INTO MULTIPLE FILES WITH REPEAT TO ROWS AND COLOUMNS. LOAD THE DIFFERENT FILES . AND MERGE THEM TO THE FINAL FILE(MERGE AND JOIN)"
   ]
  }
 ],
 "metadata": {
  "kernelspec": {
   "display_name": "Python 3",
   "language": "python",
   "name": "python3"
  },
  "language_info": {
   "codemirror_mode": {
    "name": "ipython",
    "version": 3
   },
   "file_extension": ".py",
   "mimetype": "text/x-python",
   "name": "python",
   "nbconvert_exporter": "python",
   "pygments_lexer": "ipython3",
   "version": "3.11.4"
  },
  "orig_nbformat": 4
 },
 "nbformat": 4,
 "nbformat_minor": 2
}
